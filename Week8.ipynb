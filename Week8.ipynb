{
 "cells": [
  {
   "cell_type": "code",
   "execution_count": null,
   "id": "85a194a1-2416-44d4-a5aa-57acad6987ba",
   "metadata": {},
   "outputs": [],
   "source": [
    "!pip install pandas matplotlib seaborn scikit-learn\n",
    "\n",
    "import pandas as pd\n",
    "import matplotlib.pyplot as plt\n",
    "import seaborn as sns\n",
    "\n",
    "%matplotlib inline\n",
    "\n",
    "data = {\n",
    "    'Date': pd.date_range(start='2025-01-01', periods=10, freq='D'),\n",
    "    'Category': ['Electronics', 'Clothing', 'Groceries', 'Electronics', 'Clothing', \n",
    "                 'Groceries', 'Electronics', 'Clothing', 'Groceries', 'Electronics'],\n",
    "    'Sales': [1200, 800, 600, 1500, 700, 900, 1100, 950, 620, 1400],\n",
    "    'Customer_Rating': [4.5, 3.8, 4.2, 4.7, 3.5, 4.0, 4.6, 3.9, 4.1, 4.8]\n",
    "}\n",
    "\n",
    "df = pd.DataFrame(data)\n",
    "\n",
    "df.to_csv('sales_dataset.csv', index=False)\n",
    "\n",
    "try:\n",
    "    df = pd.read_csv(\"sales_dataset.csv\")\n",
    "except FileNotFoundError:\n",
    "    print(\"Error: File not found. Check the path!\")\n",
    "except Exception as e:\n",
    "    print(f\"An error occurred: {e}\")\n",
    "\n",
    "df.head()\n",
    "df.info()\n",
    "df.isnull().sum()\n",
    "df.fillna(df.select_dtypes(include=['number']).mean(), inplace=True)\n",
    "df.describe()\n",
    "df.groupby('Category')['Sales'].mean()\n",
    "\n",
    "df.plot(x='Date', y='Sales', kind='line', figsize=(8,5))\n",
    "plt.title('Sales Trends Over Time')\n",
    "plt.xlabel('Date')\n",
    "plt.ylabel('Sales')\n",
    "plt.show()\n",
    "\n",
    "sns.barplot(x='Category', y='Sales', data=df)\n",
    "plt.title('Average Sales Per Category')\n",
    "plt.xlabel('Category')\n",
    "plt.ylabel('Average Sales')\n",
    "plt.show()\n",
    "\n",
    "df['Sales'].hist(bins=30)\n",
    "plt.title('Distribution of Sales')\n",
    "plt.xlabel('Sales')\n",
    "plt.ylabel('Frequency')\n",
    "plt.show()\n",
    "\n",
    "sns.scatterplot(x='Customer_Rating', y='Sales', data=df)\n",
    "plt.title('Customer Rating vs Sales')\n",
    "plt.xlabel('Customer Rating')\n",
    "plt.ylabel('Sales')\n",
    "plt.show()\n"
   ]
  },
  {
   "cell_type": "code",
   "execution_count": null,
   "id": "c7173a06-1a72-4e66-ba9c-e5456ba277a2",
   "metadata": {},
   "outputs": [],
   "source": []
  }
 ],
 "metadata": {
  "kernelspec": {
   "display_name": "Python [conda env:base] *",
   "language": "python",
   "name": "conda-base-py"
  },
  "language_info": {
   "codemirror_mode": {
    "name": "ipython",
    "version": 3
   },
   "file_extension": ".py",
   "mimetype": "text/x-python",
   "name": "python",
   "nbconvert_exporter": "python",
   "pygments_lexer": "ipython3",
   "version": "3.12.7"
  }
 },
 "nbformat": 4,
 "nbformat_minor": 5
}
